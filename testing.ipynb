{
 "cells": [
  {
   "cell_type": "code",
   "execution_count": 3,
   "metadata": {},
   "outputs": [],
   "source": [
    "import pandas as pd\n",
    "import json\n",
    "\n",
    "\n",
    "with open('datafiles/account_data.json', 'r', encoding='utf-8') as f:\n",
    "    data = json.load(f)\n",
    "\n",
    "    # data = pd.DataFrame(data)\n",
    "    # data.head()\n"
   ]
  },
  {
   "cell_type": "code",
   "execution_count": null,
   "metadata": {},
   "outputs": [],
   "source": []
  },
  {
   "cell_type": "code",
   "execution_count": 6,
   "metadata": {},
   "outputs": [
    {
     "name": "stdout",
     "output_type": "stream",
     "text": [
      "[\n",
      "    {\n",
      "        \"item\": \"pizza\",\n",
      "        \"amount\": 100.0\n",
      "    },\n",
      "    {\n",
      "        \"item\": \"soda\",\n",
      "        \"amount\": 20.0\n",
      "    },\n",
      "    {\n",
      "        \"item\": \"fanta\",\n",
      "        \"amount\": 30.0\n",
      "    },\n",
      "    {\n",
      "        \"item\": \"mercedes\",\n",
      "        \"amount\": 50000.0\n",
      "    }\n",
      "]\n"
     ]
    }
   ],
   "source": [
    "import json\n",
    "\n",
    "# JSON data\n",
    "data = [{'item': 'pizza', 'amount': 100.0}, {'item': 'soda', 'amount': 20.0}, {'item': 'fanta', 'amount': 30.0}, {'item': 'mercedes', 'amount': 50000.0}]\n",
    "\n",
    "# Print readable JSON\n",
    "print(json.dumps(data, indent=4, ensure_ascii=False))"
   ]
  },
  {
   "cell_type": "code",
   "execution_count": 7,
   "metadata": {},
   "outputs": [
    {
     "name": "stdout",
     "output_type": "stream",
     "text": [
      "item: pizza, amount: 100.0\n",
      "item: soda, amount: 20.0\n",
      "item: fanta, amount: 30.0\n",
      "item: mercedes, amount: 50000.0\n"
     ]
    }
   ],
   "source": [
    "for entry in data:\n",
    "    print(f\"item: {entry['item']}, amount: {entry['amount']}\")"
   ]
  },
  {
   "cell_type": "code",
   "execution_count": 5,
   "metadata": {},
   "outputs": [
    {
     "data": {
      "text/plain": [
       "[{'item': 'pizza', 'amount': 100.0},\n",
       " {'item': 'soda', 'amount': 20.0},\n",
       " {'item': 'fanta', 'amount': 30.0}]"
      ]
     },
     "execution_count": 5,
     "metadata": {},
     "output_type": "execute_result"
    }
   ],
   "source": []
  }
 ],
 "metadata": {
  "kernelspec": {
   "display_name": "Python 3",
   "language": "python",
   "name": "python3"
  },
  "language_info": {
   "codemirror_mode": {
    "name": "ipython",
    "version": 3
   },
   "file_extension": ".py",
   "mimetype": "text/x-python",
   "name": "python",
   "nbconvert_exporter": "python",
   "pygments_lexer": "ipython3",
   "version": "3.10.0"
  }
 },
 "nbformat": 4,
 "nbformat_minor": 2
}
