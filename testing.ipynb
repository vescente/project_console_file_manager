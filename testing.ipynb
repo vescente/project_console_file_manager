{
 "cells": [
  {
   "cell_type": "code",
   "execution_count": 3,
   "metadata": {},
   "outputs": [],
   "source": [
    "import pandas as pd\n",
    "import json\n",
    "\n",
    "\n",
    "with open('datafiles/account_data.json', 'r', encoding='utf-8') as f:\n",
    "    data = json.load(f)\n",
    "\n",
    "    # data = pd.DataFrame(data)\n",
    "    # data.head()\n"
   ]
  },
  {
   "cell_type": "code",
   "execution_count": null,
   "metadata": {},
   "outputs": [],
   "source": []
  },
  {
   "cell_type": "code",
   "execution_count": 6,
   "metadata": {},
   "outputs": [
    {
     "name": "stdout",
     "output_type": "stream",
     "text": [
      "[\n",
      "    {\n",
      "        \"item\": \"pizza\",\n",
      "        \"amount\": 100.0\n",
      "    },\n",
      "    {\n",
      "        \"item\": \"soda\",\n",
      "        \"amount\": 20.0\n",
      "    },\n",
      "    {\n",
      "        \"item\": \"fanta\",\n",
      "        \"amount\": 30.0\n",
      "    },\n",
      "    {\n",
      "        \"item\": \"mercedes\",\n",
      "        \"amount\": 50000.0\n",
      "    }\n",
      "]\n"
     ]
    }
   ],
   "source": [
    "import json\n",
    "\n",
    "# JSON data\n",
    "data = [{'item': 'pizza', 'amount': 100.0}, {'item': 'soda', 'amount': 20.0}, {'item': 'fanta', 'amount': 30.0}, {'item': 'mercedes', 'amount': 50000.0}]\n",
    "\n",
    "# Print readable JSON\n",
    "print(json.dumps(data, indent=4, ensure_ascii=False))"
   ]
  },
  {
   "cell_type": "code",
   "execution_count": 7,
   "metadata": {},
   "outputs": [
    {
     "name": "stdout",
     "output_type": "stream",
     "text": [
      "item: pizza, amount: 100.0\n",
      "item: soda, amount: 20.0\n",
      "item: fanta, amount: 30.0\n",
      "item: mercedes, amount: 50000.0\n"
     ]
    }
   ],
   "source": [
    "for entry in data:\n",
    "    print(f\"item: {entry['item']}, amount: {entry['amount']}\")"
   ]
  },
  {
   "cell_type": "code",
   "execution_count": 1,
   "metadata": {},
   "outputs": [
    {
     "name": "stdout",
     "output_type": "stream",
     "text": [
      "c:\\Users\\User\\VScode\\git\\project_dev\n"
     ]
    }
   ],
   "source": [
    "import os\n",
    "\n",
    "# Show the current directory\n",
    "print(os.getcwd())"
   ]
  },
  {
   "cell_type": "code",
   "execution_count": null,
   "metadata": {},
   "outputs": [],
   "source": [
    "# List the contents of the current directory\n",
    "directory_contents = os.listdir()\n",
    "\n",
    "# Print the contents\n",
    "print(directory_contents)\n",
    "\n",
    "# Save the contents to a text file\n",
    "with open('directory_contents.txt', 'w') as f:\n",
    "    for item in directory_contents:\n",
    "        f.write(f\"{item}\\n\")"
   ]
  },
  {
   "cell_type": "code",
   "execution_count": 5,
   "metadata": {},
   "outputs": [
    {
     "name": "stdout",
     "output_type": "stream",
     "text": [
      "['.git', 'bank_account.py', 'console_file_manager.py', 'creator_info.py', 'datafiles', 'file_operations.py', 'json_info.py', 'LICENSE', 'play_quiz.py', 'system_info.py', 'testing.ipynb', 'test_filemanager.py', '__pycache__']\n"
     ]
    }
   ],
   "source": [
    "print(os.listdir())\n",
    "\n",
    "with open('datafiles/dirrectory.txt', 'w') as f:\n",
    "    for item in os.listdir():\n",
    "        f.write(f\"{item}\\n\")"
   ]
  }
 ],
 "metadata": {
  "kernelspec": {
   "display_name": "Python 3",
   "language": "python",
   "name": "python3"
  },
  "language_info": {
   "codemirror_mode": {
    "name": "ipython",
    "version": 3
   },
   "file_extension": ".py",
   "mimetype": "text/x-python",
   "name": "python",
   "nbconvert_exporter": "python",
   "pygments_lexer": "ipython3",
   "version": "3.10.0"
  }
 },
 "nbformat": 4,
 "nbformat_minor": 2
}
